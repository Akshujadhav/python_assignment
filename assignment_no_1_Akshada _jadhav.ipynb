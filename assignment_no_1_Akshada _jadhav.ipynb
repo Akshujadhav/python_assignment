{
 "cells": [
  {
   "cell_type": "markdown",
   "id": "a99daa3e",
   "metadata": {},
   "source": [
    "# Assignment 1"
   ]
  },
  {
   "cell_type": "code",
   "execution_count": 1,
   "id": "d31033ef",
   "metadata": {},
   "outputs": [],
   "source": [
    "##What is 7 to the power of 4?"
   ]
  },
  {
   "cell_type": "code",
   "execution_count": 2,
   "id": "bec893b4",
   "metadata": {},
   "outputs": [
    {
     "data": {
      "text/plain": [
       "2401"
      ]
     },
     "execution_count": 2,
     "metadata": {},
     "output_type": "execute_result"
    }
   ],
   "source": [
    "7**4"
   ]
  },
  {
   "cell_type": "code",
   "execution_count": 5,
   "id": "133acfc0",
   "metadata": {},
   "outputs": [],
   "source": [
    "## Split this string:\n",
    "\n",
    "#s = \"Hi there Yogesh!\"\n",
    "    \n",
    "# into a list. "
   ]
  },
  {
   "cell_type": "code",
   "execution_count": 6,
   "id": "c29cfa75",
   "metadata": {},
   "outputs": [],
   "source": [
    "s=\"Hi there Akshada!\""
   ]
  },
  {
   "cell_type": "code",
   "execution_count": 7,
   "id": "98b6af1d",
   "metadata": {},
   "outputs": [
    {
     "data": {
      "text/plain": [
       "['Hi', 'there', 'Akshada!']"
      ]
     },
     "execution_count": 7,
     "metadata": {},
     "output_type": "execute_result"
    }
   ],
   "source": [
    "s.split()"
   ]
  },
  {
   "cell_type": "code",
   "execution_count": 8,
   "id": "848d424f",
   "metadata": {},
   "outputs": [],
   "source": [
    "# ** Given the variables:**\n",
    "\n",
    "   # planet = \"Earth\"\n",
    "  #  diameter = 12742\n",
    "\n",
    "#* Use .format() to print the following string: **\n"
   ]
  },
  {
   "cell_type": "code",
   "execution_count": 9,
   "id": "2e142673",
   "metadata": {},
   "outputs": [],
   "source": [
    "planet=\"Earth\"\n",
    "diameter=12742"
   ]
  },
  {
   "cell_type": "code",
   "execution_count": 10,
   "id": "766b7cf3",
   "metadata": {},
   "outputs": [
    {
     "data": {
      "text/plain": [
       "'the diameter ofEarth is 12742 kilometer.'"
      ]
     },
     "execution_count": 10,
     "metadata": {},
     "output_type": "execute_result"
    }
   ],
   "source": [
    "\"the diameter of{} is {} kilometer.\".format(planet,diameter)"
   ]
  },
  {
   "cell_type": "code",
   "execution_count": 11,
   "id": "eb7790e8",
   "metadata": {},
   "outputs": [],
   "source": [
    "#Given this nested list, use indexing to grab the word \"hello\" **"
   ]
  },
  {
   "cell_type": "code",
   "execution_count": 12,
   "id": "93c9a77f",
   "metadata": {},
   "outputs": [],
   "source": [
    "lst = [1,2,[3,4],[5,[100,200,['hello']],23,11],1,7]"
   ]
  },
  {
   "cell_type": "code",
   "execution_count": 13,
   "id": "ec3f7b94",
   "metadata": {},
   "outputs": [
    {
     "data": {
      "text/plain": [
       "[1, 2, [3, 4], [5, [100, 200, ['hello']], 23, 11], 1, 7]"
      ]
     },
     "execution_count": 13,
     "metadata": {},
     "output_type": "execute_result"
    }
   ],
   "source": [
    "lst"
   ]
  },
  {
   "cell_type": "code",
   "execution_count": 18,
   "id": "afc91d8a",
   "metadata": {},
   "outputs": [
    {
     "data": {
      "text/plain": [
       "['hello']"
      ]
     },
     "execution_count": 18,
     "metadata": {},
     "output_type": "execute_result"
    }
   ],
   "source": [
    "lst[3][1][2]"
   ]
  },
  {
   "cell_type": "code",
   "execution_count": 19,
   "id": "75d0d251",
   "metadata": {},
   "outputs": [],
   "source": [
    "#Given this nested dictionary grab the word \"hello\". Be prepared, this will be annoying/tricky **"
   ]
  },
  {
   "cell_type": "code",
   "execution_count": 20,
   "id": "a7bf7fae",
   "metadata": {},
   "outputs": [],
   "source": [
    "d = {'k1':[1,2,3,{'tricky':['oh','man','inception',{'target':[1,2,3,'hello']}]}]}"
   ]
  },
  {
   "cell_type": "code",
   "execution_count": 21,
   "id": "140082f8",
   "metadata": {},
   "outputs": [
    {
     "data": {
      "text/plain": [
       "{'k1': [1,\n",
       "  2,\n",
       "  3,\n",
       "  {'tricky': ['oh', 'man', 'inception', {'target': [1, 2, 3, 'hello']}]}]}"
      ]
     },
     "execution_count": 21,
     "metadata": {},
     "output_type": "execute_result"
    }
   ],
   "source": [
    "d"
   ]
  },
  {
   "cell_type": "code",
   "execution_count": 22,
   "id": "57f20eae",
   "metadata": {},
   "outputs": [
    {
     "data": {
      "text/plain": [
       "[1,\n",
       " 2,\n",
       " 3,\n",
       " {'tricky': ['oh', 'man', 'inception', {'target': [1, 2, 3, 'hello']}]}]"
      ]
     },
     "execution_count": 22,
     "metadata": {},
     "output_type": "execute_result"
    }
   ],
   "source": [
    "d['k1']"
   ]
  },
  {
   "cell_type": "code",
   "execution_count": 26,
   "id": "76fb8ab0",
   "metadata": {},
   "outputs": [
    {
     "data": {
      "text/plain": [
       "'hello'"
      ]
     },
     "execution_count": 26,
     "metadata": {},
     "output_type": "execute_result"
    }
   ],
   "source": [
    "d['k1'][3]['tricky'][3]['target'][3]"
   ]
  },
  {
   "cell_type": "markdown",
   "id": "a739959d",
   "metadata": {},
   "source": [
    "### What is the main difference between a tuple and a list? **"
   ]
  },
  {
   "cell_type": "code",
   "execution_count": 28,
   "id": "bd7a8eec",
   "metadata": {},
   "outputs": [],
   "source": [
    "# tuple is immutable"
   ]
  },
  {
   "cell_type": "code",
   "execution_count": 29,
   "id": "0a572a56",
   "metadata": {},
   "outputs": [],
   "source": [
    "#list is immutable"
   ]
  },
  {
   "cell_type": "markdown",
   "id": "155e4c78",
   "metadata": {},
   "source": [
    "### Create a function that grabs the email website domain from a string in the form: **\n",
    "\n",
    "### user@domain.com\n",
    "    \n",
    "### So for example, passing \"user@domain.com\" would return: domain.com**"
   ]
  },
  {
   "cell_type": "code",
   "execution_count": 30,
   "id": "a0ba4a1c",
   "metadata": {},
   "outputs": [],
   "source": [
    "def find_domain(e):\n",
    "    return e.split('@')[-1]"
   ]
  },
  {
   "cell_type": "code",
   "execution_count": 35,
   "id": "54375271",
   "metadata": {},
   "outputs": [
    {
     "data": {
      "text/plain": [
       "'gmail.com'"
      ]
     },
     "execution_count": 35,
     "metadata": {},
     "output_type": "execute_result"
    }
   ],
   "source": [
    "find_domain('akshadajadhav0405@gmail.com')"
   ]
  },
  {
   "cell_type": "markdown",
   "id": "222fddb2",
   "metadata": {},
   "source": [
    "####  Create a function that counts the number of times the word \"dog\" occurs in a string. Again ignore edge cases. **"
   ]
  },
  {
   "cell_type": "code",
   "execution_count": 44,
   "id": "6c371b18",
   "metadata": {},
   "outputs": [],
   "source": [
    "def count_dog(d):\n",
    "    return 'dog' in d.count('dog')"
   ]
  },
  {
   "cell_type": "code",
   "execution_count": 45,
   "id": "775d1b34",
   "metadata": {},
   "outputs": [
    {
     "ename": "TypeError",
     "evalue": "argument of type 'int' is not iterable",
     "output_type": "error",
     "traceback": [
      "\u001b[1;31m---------------------------------------------------------------------------\u001b[0m",
      "\u001b[1;31mTypeError\u001b[0m                                 Traceback (most recent call last)",
      "Cell \u001b[1;32mIn[45], line 1\u001b[0m\n\u001b[1;32m----> 1\u001b[0m count_dog(\u001b[38;5;124m'\u001b[39m\u001b[38;5;124mdog is my favourite animal,daog,dog,dog\u001b[39m\u001b[38;5;124m'\u001b[39m)\n",
      "Cell \u001b[1;32mIn[44], line 2\u001b[0m, in \u001b[0;36mcount_dog\u001b[1;34m(d)\u001b[0m\n\u001b[0;32m      1\u001b[0m \u001b[38;5;28;01mdef\u001b[39;00m \u001b[38;5;21mcount_dog\u001b[39m(d):\n\u001b[1;32m----> 2\u001b[0m     \u001b[38;5;28;01mreturn\u001b[39;00m \u001b[38;5;124m'\u001b[39m\u001b[38;5;124mdog\u001b[39m\u001b[38;5;124m'\u001b[39m \u001b[38;5;129;01min\u001b[39;00m d\u001b[38;5;241m.\u001b[39mcount(\u001b[38;5;124m'\u001b[39m\u001b[38;5;124mdog\u001b[39m\u001b[38;5;124m'\u001b[39m)\n",
      "\u001b[1;31mTypeError\u001b[0m: argument of type 'int' is not iterable"
     ]
    }
   ],
   "source": [
    "count_dog('dog is my favourite animal,daog,dog,dog')"
   ]
  },
  {
   "cell_type": "code",
   "execution_count": 46,
   "id": "ea831da2",
   "metadata": {},
   "outputs": [],
   "source": [
    "def fun2(s):\n",
    "    c=0\n",
    "    for v in s.lower().split():\n",
    "        if v=='dog':\n",
    "            c=c+1\n",
    "    print(c)"
   ]
  },
  {
   "cell_type": "code",
   "execution_count": 48,
   "id": "59e9cae6",
   "metadata": {},
   "outputs": [
    {
     "name": "stdout",
     "output_type": "stream",
     "text": [
      "3\n"
     ]
    }
   ],
   "source": [
    "fun2('dog dog dog')"
   ]
  },
  {
   "cell_type": "markdown",
   "id": "a8335504",
   "metadata": {},
   "source": [
    "#### Use lambda expressions and the filter() function to filter out words from a list that don't start with the letter 's'. For example:**\n",
    "\n",
    " ####   seq = ['soup','dog','salad','cat','great']\n",
    "\n",
    "#### should be filtered down to:**\n",
    "\n",
    "   ####  ['soup','salad']"
   ]
  },
  {
   "cell_type": "code",
   "execution_count": 49,
   "id": "36d5b020",
   "metadata": {},
   "outputs": [],
   "source": [
    "seq = ['soup','dog','salad','cat','great']"
   ]
  },
  {
   "cell_type": "code",
   "execution_count": 55,
   "id": "4632f38d",
   "metadata": {},
   "outputs": [
    {
     "data": {
      "text/plain": [
       "['dog', 'cat', 'great']"
      ]
     },
     "execution_count": 55,
     "metadata": {},
     "output_type": "execute_result"
    }
   ],
   "source": [
    "list(filter(lambda x:x[0]!='s',seq))"
   ]
  },
  {
   "cell_type": "markdown",
   "id": "a1bc2c0c",
   "metadata": {},
   "source": [
    "#### Final Problem\n",
    "#### You are driving a little too fast, and a police officer stops you. Write a function\n",
    "  #### to return one of 3 possible results: \"No ticket\", \"Small ticket\", or \"Big Ticket\". \n",
    "  #### If your speed is 60 or less, the result is \"No Ticket\". If speed is between 61 \n",
    "  #### and 80 inclusive, the result is \"Small Ticket\". If speed is 81 or more, the result is \"Big    Ticket\". Unless it is your birthday (encoded as a boolean value in the parameters of the function) -- on your birthday, your speed can be 5 higher in all \n",
    "  #### cases. **"
   ]
  },
  {
   "cell_type": "code",
   "execution_count": 56,
   "id": "cac9124b",
   "metadata": {},
   "outputs": [],
   "source": [
    "def catch_speed(speed,birthday):\n",
    "    if birthday==True:\n",
    "        new_speed=speed-5\n",
    "    else:\n",
    "         new_speed=speed\n",
    "    if new_speed>80:\n",
    "            return\"big ticket\"\n",
    "    elif new_speed>60:\n",
    "         return \"small ticket\"\n",
    "    else:\n",
    "         return \"no ticket\""
   ]
  },
  {
   "cell_type": "code",
   "execution_count": 58,
   "id": "83bfbe31",
   "metadata": {},
   "outputs": [
    {
     "data": {
      "text/plain": [
       "'small ticket'"
      ]
     },
     "execution_count": 58,
     "metadata": {},
     "output_type": "execute_result"
    }
   ],
   "source": [
    "catch_speed(81,True)"
   ]
  },
  {
   "cell_type": "code",
   "execution_count": 60,
   "id": "92bf1ddd",
   "metadata": {},
   "outputs": [
    {
     "data": {
      "text/plain": [
       "'big ticket'"
      ]
     },
     "execution_count": 60,
     "metadata": {},
     "output_type": "execute_result"
    }
   ],
   "source": [
    "catch_speed(81,False)"
   ]
  },
  {
   "cell_type": "code",
   "execution_count": 61,
   "id": "73c88717",
   "metadata": {},
   "outputs": [
    {
     "data": {
      "text/plain": [
       "'no ticket'"
      ]
     },
     "execution_count": 61,
     "metadata": {},
     "output_type": "execute_result"
    }
   ],
   "source": [
    "catch_speed(60,False)"
   ]
  },
  {
   "cell_type": "markdown",
   "id": "271ed423",
   "metadata": {},
   "source": [
    "#### Question\n",
    "#### Given a string print number num by extracting all the\n",
    "#### digits from the string as in string\n",
    "#### Print negative number if the first character in \n",
    "#### string is '-'\n",
    "#### eg.\n",
    "#### -123abcd should return -123,abcd456-->456,fdhfh78dsd89--->7889,-56dssd78-->-5678?--/"
   ]
  },
  {
   "cell_type": "code",
   "execution_count": 63,
   "id": "15295a1b",
   "metadata": {},
   "outputs": [
    {
     "name": "stdout",
     "output_type": "stream",
     "text": [
      "Enter the number:ab4ch67f89\n",
      "46789\n"
     ]
    }
   ],
   "source": [
    "s=input(\"Enter the number:\")\n",
    "num=''\n",
    "numbers=[0,1,2,3,4,5,6,7,8,9]\n",
    "if s[0]=='-':\n",
    "    num=num+s[0]\n",
    "for c in s:\n",
    "    if c in str(numbers):\n",
    "        num=num+c\n",
    "print(num)"
   ]
  },
  {
   "cell_type": "markdown",
   "id": "8d6ab2dd",
   "metadata": {},
   "source": [
    "##### Q2\n",
    "#### WAP to check whether a number is palindrome or not on following conditions.\n",
    "#### 1. take input number\n",
    "##### 2. add number and its reverse\n",
    "#### 3. check that number is palindrome or not,if not then sum and its reverse"
   ]
  },
  {
   "cell_type": "code",
   "execution_count": 66,
   "id": "0a452c01",
   "metadata": {},
   "outputs": [
    {
     "name": "stdout",
     "output_type": "stream",
     "text": [
      "Enter the number 88\n",
      "Number is: 176\n",
      "Reverse is: 671\n",
      "number is: 847\n",
      "Reverse is: 748\n",
      "Number is: 847\n",
      "Reverse is: 748\n",
      "number is: 1595\n",
      "Reverse is: 5951\n",
      "Number is: 1595\n",
      "Reverse is: 5951\n",
      "number is: 7546\n",
      "Reverse is: 6457\n",
      "Number is: 7546\n",
      "Reverse is: 6457\n",
      "number is: 14003\n",
      "Reverse is: 30041\n",
      "Number is: 14003\n",
      "Reverse is: 30041\n",
      "number is: 44044\n",
      "Reverse is: 44044\n",
      "palindrome is: 44044\n"
     ]
    }
   ],
   "source": [
    "num1=input(\"Enter the number \")\n",
    "num2=int(num1[::-1])\n",
    "num3=str(int(num1)+num2)\n",
    "while num3!=num3[::-1]:\n",
    "    print(\"Number is:\",num3)\n",
    "    print(\"Reverse is:\",num3[::-1])\n",
    "    num3=str(int(num3)+int(num3[::-1]))\n",
    "    print(\"number is:\",num3)\n",
    "    print(\"Reverse is:\",num3[::-1])\n",
    "    \n",
    "print(\"palindrome is:\",num3)"
   ]
  },
  {
   "cell_type": "markdown",
   "id": "9aed21e1",
   "metadata": {},
   "source": [
    "#### Write a python function to find and display the five \n",
    "#### digit number in which the first digit is two more than the second,the second digit is two more than the third,\n",
    "#### the fourth digit is two less than the third, and the \n",
    "#### last digit is two more than\n",
    "#### the fourth.The sum of the third,fourth and fifth digits\n",
    "#### equals the first.The sum of all the digits is 19"
   ]
  },
  {
   "cell_type": "code",
   "execution_count": 2,
   "id": "0d4c4ffe",
   "metadata": {},
   "outputs": [],
   "source": [
    "def find_five_digit_number():\n",
    "    for c in range(9,0,-1):\n",
    "        a = c + 4\n",
    "        b = c + 2\n",
    "        d = c - 2\n",
    "        e = c\n",
    "        if a == c + d + e:\n",
    "            if a + b + c + d + e == 19:\n",
    "                return (int(str(a) + str(b) + str(c) + str(d) + str(e)))"
   ]
  },
  {
   "cell_type": "code",
   "execution_count": 3,
   "id": "91141dae",
   "metadata": {},
   "outputs": [
    {
     "data": {
      "text/plain": [
       "75313"
      ]
     },
     "execution_count": 3,
     "metadata": {},
     "output_type": "execute_result"
    }
   ],
   "source": [
    "find_five_digit_number()"
   ]
  },
  {
   "cell_type": "code",
   "execution_count": 4,
   "id": "884edb1e",
   "metadata": {},
   "outputs": [
    {
     "data": {
      "text/plain": [
       "'C:\\\\Users\\\\admin'"
      ]
     },
     "execution_count": 4,
     "metadata": {},
     "output_type": "execute_result"
    }
   ],
   "source": [
    "pwd"
   ]
  },
  {
   "cell_type": "code",
   "execution_count": null,
   "id": "488da6c4",
   "metadata": {},
   "outputs": [],
   "source": []
  }
 ],
 "metadata": {
  "kernelspec": {
   "display_name": "Python 3 (ipykernel)",
   "language": "python",
   "name": "python3"
  },
  "language_info": {
   "codemirror_mode": {
    "name": "ipython",
    "version": 3
   },
   "file_extension": ".py",
   "mimetype": "text/x-python",
   "name": "python",
   "nbconvert_exporter": "python",
   "pygments_lexer": "ipython3",
   "version": "3.11.5"
  }
 },
 "nbformat": 4,
 "nbformat_minor": 5
}
